{
 "cells": [
  {
   "cell_type": "code",
   "execution_count": 1,
   "metadata": {},
   "outputs": [],
   "source": [
    "import findspark\n",
    "findspark.init()\n",
    "import pymongo\n",
    "import pandas as pd\n",
    "\n"
   ]
  },
  {
   "cell_type": "code",
   "execution_count": 2,
   "metadata": {},
   "outputs": [],
   "source": [
    "import pyspark\n",
    "from pyspark.sql import SparkSession\n",
    "from pyspark.sql.types import *\n",
    "from pyspark.sql.functions import *\n",
    "\n",
    "spark = SparkSession\\\n",
    "    .builder\\\n",
    "    .master('local[2]')\\\n",
    "    .appName('quake_etl')\\\n",
    "    .config('spark.jars.package', 'org.mongodb.spark:mongo-spark-connector_2.12:2.4.1')\\\n",
    "    .getOrCreate()\n",
    "    "
   ]
  },
  {
   "cell_type": "code",
   "execution_count": 3,
   "metadata": {},
   "outputs": [
    {
     "data": {
      "text/plain": [
       "[Row(Date='01/02/1965', Time='13:44:18', Latitude='19.246', Longitude='145.616', Type='Earthquake', Depth='131.6', Depth Error=None, Depth Seismic Stations=None, Magnitude='6', Magnitude Type='MW', Magnitude Error=None, Magnitude Seismic Stations=None, Azimuthal Gap=None, Horizontal Distance=None, Horizontal Error=None, Root Mean Square=None, ID='ISCGEM860706', Source='ISCGEM', Location Source='ISCGEM', Magnitude Source='ISCGEM', Status='Automatic')]"
      ]
     },
     "execution_count": 3,
     "metadata": {},
     "output_type": "execute_result"
    }
   ],
   "source": [
    "#Loading dataset \n",
    "df_load = spark.read.csv(r\"C:\\Users\\LOQ\\Desktop\\BDT\\database.csv\",header = True)\n",
    "\n",
    "#previewing dataset\n",
    "df_load.take(1)"
   ]
  },
  {
   "cell_type": "code",
   "execution_count": 4,
   "metadata": {},
   "outputs": [
    {
     "name": "stdout",
     "output_type": "stream",
     "text": [
      "+----------+--------+--------+---------+----------+-----+-----------+----------------------+---------+--------------+---------------+--------------------------+-------------+-------------------+----------------+----------------+------------+------+---------------+----------------+---------+\n",
      "|      Date|    Time|Latitude|Longitude|      Type|Depth|Depth Error|Depth Seismic Stations|Magnitude|Magnitude Type|Magnitude Error|Magnitude Seismic Stations|Azimuthal Gap|Horizontal Distance|Horizontal Error|Root Mean Square|          ID|Source|Location Source|Magnitude Source|   Status|\n",
      "+----------+--------+--------+---------+----------+-----+-----------+----------------------+---------+--------------+---------------+--------------------------+-------------+-------------------+----------------+----------------+------------+------+---------------+----------------+---------+\n",
      "|01/02/1965|13:44:18|  19.246|  145.616|Earthquake|131.6|       NULL|                  NULL|        6|            MW|           NULL|                      NULL|         NULL|               NULL|            NULL|            NULL|ISCGEM860706|ISCGEM|         ISCGEM|          ISCGEM|Automatic|\n",
      "|01/04/1965|11:29:49|   1.863|  127.352|Earthquake|   80|       NULL|                  NULL|      5.8|            MW|           NULL|                      NULL|         NULL|               NULL|            NULL|            NULL|ISCGEM860737|ISCGEM|         ISCGEM|          ISCGEM|Automatic|\n",
      "|01/05/1965|18:05:58| -20.579| -173.972|Earthquake|   20|       NULL|                  NULL|      6.2|            MW|           NULL|                      NULL|         NULL|               NULL|            NULL|            NULL|ISCGEM860762|ISCGEM|         ISCGEM|          ISCGEM|Automatic|\n",
      "|01/08/1965|18:49:43| -59.076|  -23.557|Earthquake|   15|       NULL|                  NULL|      5.8|            MW|           NULL|                      NULL|         NULL|               NULL|            NULL|            NULL|ISCGEM860856|ISCGEM|         ISCGEM|          ISCGEM|Automatic|\n",
      "|01/09/1965|13:32:50|  11.938|  126.427|Earthquake|   15|       NULL|                  NULL|      5.8|            MW|           NULL|                      NULL|         NULL|               NULL|            NULL|            NULL|ISCGEM860890|ISCGEM|         ISCGEM|          ISCGEM|Automatic|\n",
      "+----------+--------+--------+---------+----------+-----+-----------+----------------------+---------+--------------+---------------+--------------------------+-------------+-------------------+----------------+----------------+------------+------+---------------+----------------+---------+\n",
      "only showing top 5 rows\n",
      "\n"
     ]
    }
   ],
   "source": [
    "#removing fields of less significance\n",
    "lst_dropped_columns = ['Depth Error', 'Depth Seismic Stations','Magnitude Error','Magnitude Seismic Stations','Azimuthal Gap', 'Horizontal Distance','Horizontal Error',\n",
    "    'Root Mean Square','Source','Location Source','Magnitude Source','Status']\n",
    "\n",
    "df_load = df_load.drop(\"lst_dropped_columns\")\n",
    "\n",
    "df_load.show(5)"
   ]
  },
  {
   "cell_type": "code",
   "execution_count": 5,
   "metadata": {},
   "outputs": [
    {
     "name": "stdout",
     "output_type": "stream",
     "text": [
      "+----------+--------+--------+---------+----------+-----+-----------+----------------------+---------+--------------+---------------+--------------------------+-------------+-------------------+----------------+----------------+------------+------+---------------+----------------+---------+----+\n",
      "|      Date|    Time|Latitude|Longitude|      Type|Depth|Depth Error|Depth Seismic Stations|Magnitude|Magnitude Type|Magnitude Error|Magnitude Seismic Stations|Azimuthal Gap|Horizontal Distance|Horizontal Error|Root Mean Square|          ID|Source|Location Source|Magnitude Source|   Status|Year|\n",
      "+----------+--------+--------+---------+----------+-----+-----------+----------------------+---------+--------------+---------------+--------------------------+-------------+-------------------+----------------+----------------+------------+------+---------------+----------------+---------+----+\n",
      "|01/02/1965|13:44:18|  19.246|  145.616|Earthquake|131.6|       NULL|                  NULL|        6|            MW|           NULL|                      NULL|         NULL|               NULL|            NULL|            NULL|ISCGEM860706|ISCGEM|         ISCGEM|          ISCGEM|Automatic|1965|\n",
      "|01/04/1965|11:29:49|   1.863|  127.352|Earthquake|   80|       NULL|                  NULL|      5.8|            MW|           NULL|                      NULL|         NULL|               NULL|            NULL|            NULL|ISCGEM860737|ISCGEM|         ISCGEM|          ISCGEM|Automatic|1965|\n",
      "|01/05/1965|18:05:58| -20.579| -173.972|Earthquake|   20|       NULL|                  NULL|      6.2|            MW|           NULL|                      NULL|         NULL|               NULL|            NULL|            NULL|ISCGEM860762|ISCGEM|         ISCGEM|          ISCGEM|Automatic|1965|\n",
      "|01/08/1965|18:49:43| -59.076|  -23.557|Earthquake|   15|       NULL|                  NULL|      5.8|            MW|           NULL|                      NULL|         NULL|               NULL|            NULL|            NULL|ISCGEM860856|ISCGEM|         ISCGEM|          ISCGEM|Automatic|1965|\n",
      "|01/09/1965|13:32:50|  11.938|  126.427|Earthquake|   15|       NULL|                  NULL|      5.8|            MW|           NULL|                      NULL|         NULL|               NULL|            NULL|            NULL|ISCGEM860890|ISCGEM|         ISCGEM|          ISCGEM|Automatic|1965|\n",
      "+----------+--------+--------+---------+----------+-----+-----------+----------------------+---------+--------------+---------------+--------------------------+-------------+-------------------+----------------+----------------+------------+------+---------------+----------------+---------+----+\n",
      "only showing top 5 rows\n",
      "\n"
     ]
    }
   ],
   "source": [
    "# Creating a year field and add it to the df_load dataframe\n",
    "df_load = df_load.withColumn ('Year', year(to_timestamp('Date', 'dd/MM/yyyy')))\n",
    "\n",
    "df_load.show(5)"
   ]
  },
  {
   "cell_type": "code",
   "execution_count": 6,
   "metadata": {},
   "outputs": [
    {
     "data": {
      "text/plain": [
       "<bound method DataFrame.show of DataFrame[Year: int, Counts: bigint]>"
      ]
     },
     "execution_count": 6,
     "metadata": {},
     "output_type": "execute_result"
    }
   ],
   "source": [
    "# Creating the quakes freq dataframe from the year\n",
    "df_quake_freq = df_load.groupBy('Year').count().withColumnRenamed('count', 'Counts')\n",
    "\n",
    "df_quake_freq.show"
   ]
  },
  {
   "cell_type": "code",
   "execution_count": 7,
   "metadata": {},
   "outputs": [
    {
     "name": "stdout",
     "output_type": "stream",
     "text": [
      "root\n",
      " |-- Date: string (nullable = true)\n",
      " |-- Time: string (nullable = true)\n",
      " |-- Latitude: string (nullable = true)\n",
      " |-- Longitude: string (nullable = true)\n",
      " |-- Type: string (nullable = true)\n",
      " |-- Depth: string (nullable = true)\n",
      " |-- Depth Error: string (nullable = true)\n",
      " |-- Depth Seismic Stations: string (nullable = true)\n",
      " |-- Magnitude: string (nullable = true)\n",
      " |-- Magnitude Type: string (nullable = true)\n",
      " |-- Magnitude Error: string (nullable = true)\n",
      " |-- Magnitude Seismic Stations: string (nullable = true)\n",
      " |-- Azimuthal Gap: string (nullable = true)\n",
      " |-- Horizontal Distance: string (nullable = true)\n",
      " |-- Horizontal Error: string (nullable = true)\n",
      " |-- Root Mean Square: string (nullable = true)\n",
      " |-- ID: string (nullable = true)\n",
      " |-- Source: string (nullable = true)\n",
      " |-- Location Source: string (nullable = true)\n",
      " |-- Magnitude Source: string (nullable = true)\n",
      " |-- Status: string (nullable = true)\n",
      " |-- Year: integer (nullable = true)\n",
      "\n"
     ]
    }
   ],
   "source": [
    "df_load.printSchema()"
   ]
  },
  {
   "cell_type": "code",
   "execution_count": 8,
   "metadata": {},
   "outputs": [
    {
     "name": "stdout",
     "output_type": "stream",
     "text": [
      "+----------+--------+--------+---------+----------+-----+-----------+----------------------+---------+--------------+---------------+--------------------------+-------------+-------------------+----------------+----------------+------------+------+---------------+----------------+---------+----+\n",
      "|      Date|    Time|Latitude|Longitude|      Type|Depth|Depth Error|Depth Seismic Stations|Magnitude|Magnitude Type|Magnitude Error|Magnitude Seismic Stations|Azimuthal Gap|Horizontal Distance|Horizontal Error|Root Mean Square|          ID|Source|Location Source|Magnitude Source|   Status|Year|\n",
      "+----------+--------+--------+---------+----------+-----+-----------+----------------------+---------+--------------+---------------+--------------------------+-------------+-------------------+----------------+----------------+------------+------+---------------+----------------+---------+----+\n",
      "|01/02/1965|13:44:18|  19.246|  145.616|Earthquake|131.6|       NULL|                  NULL|      6.0|            MW|           NULL|                      NULL|         NULL|               NULL|            NULL|            NULL|ISCGEM860706|ISCGEM|         ISCGEM|          ISCGEM|Automatic|1965|\n",
      "|01/04/1965|11:29:49|   1.863|  127.352|Earthquake| 80.0|       NULL|                  NULL|      5.8|            MW|           NULL|                      NULL|         NULL|               NULL|            NULL|            NULL|ISCGEM860737|ISCGEM|         ISCGEM|          ISCGEM|Automatic|1965|\n",
      "|01/05/1965|18:05:58| -20.579| -173.972|Earthquake| 20.0|       NULL|                  NULL|      6.2|            MW|           NULL|                      NULL|         NULL|               NULL|            NULL|            NULL|ISCGEM860762|ISCGEM|         ISCGEM|          ISCGEM|Automatic|1965|\n",
      "|01/08/1965|18:49:43| -59.076|  -23.557|Earthquake| 15.0|       NULL|                  NULL|      5.8|            MW|           NULL|                      NULL|         NULL|               NULL|            NULL|            NULL|ISCGEM860856|ISCGEM|         ISCGEM|          ISCGEM|Automatic|1965|\n",
      "|01/09/1965|13:32:50|  11.938|  126.427|Earthquake| 15.0|       NULL|                  NULL|      5.8|            MW|           NULL|                      NULL|         NULL|               NULL|            NULL|            NULL|ISCGEM860890|ISCGEM|         ISCGEM|          ISCGEM|Automatic|1965|\n",
      "+----------+--------+--------+---------+----------+-----+-----------+----------------------+---------+--------------+---------------+--------------------------+-------------+-------------------+----------------+----------------+------------+------+---------------+----------------+---------+----+\n",
      "only showing top 5 rows\n",
      "\n"
     ]
    }
   ],
   "source": [
    "# Transformation of fields from string to double\n",
    "df_load = df_load.withColumn('Latitude', df_load['Latitude'].cast(DoubleType()))\\\n",
    "    .withColumn('Longitude', df_load['Longitude'].cast(DoubleType()))\\\n",
    "    .withColumn('Depth', df_load['Depth'].cast(DoubleType()))\\\n",
    "    .withColumn('Magnitude', df_load['Magnitude'].cast(DoubleType()))\n",
    "\n",
    "df_load.show(5)\n"
   ]
  },
  {
   "cell_type": "code",
   "execution_count": 9,
   "metadata": {},
   "outputs": [
    {
     "name": "stdout",
     "output_type": "stream",
     "text": [
      "root\n",
      " |-- Date: string (nullable = true)\n",
      " |-- Time: string (nullable = true)\n",
      " |-- Latitude: double (nullable = true)\n",
      " |-- Longitude: double (nullable = true)\n",
      " |-- Type: string (nullable = true)\n",
      " |-- Depth: double (nullable = true)\n",
      " |-- Depth Error: string (nullable = true)\n",
      " |-- Depth Seismic Stations: string (nullable = true)\n",
      " |-- Magnitude: double (nullable = true)\n",
      " |-- Magnitude Type: string (nullable = true)\n",
      " |-- Magnitude Error: string (nullable = true)\n",
      " |-- Magnitude Seismic Stations: string (nullable = true)\n",
      " |-- Azimuthal Gap: string (nullable = true)\n",
      " |-- Horizontal Distance: string (nullable = true)\n",
      " |-- Horizontal Error: string (nullable = true)\n",
      " |-- Root Mean Square: string (nullable = true)\n",
      " |-- ID: string (nullable = true)\n",
      " |-- Source: string (nullable = true)\n",
      " |-- Location Source: string (nullable = true)\n",
      " |-- Magnitude Source: string (nullable = true)\n",
      " |-- Status: string (nullable = true)\n",
      " |-- Year: integer (nullable = true)\n",
      "\n"
     ]
    }
   ],
   "source": [
    "df_load.printSchema()"
   ]
  },
  {
   "cell_type": "code",
   "execution_count": 10,
   "metadata": {},
   "outputs": [
    {
     "name": "stdout",
     "output_type": "stream",
     "text": [
      "+----+------+-----------------+--------------+\n",
      "|Year|Counts|   avg(Magnitude)|max(Magnitude)|\n",
      "+----+------+-----------------+--------------+\n",
      "|1990|   196|5.858163265306125|           7.6|\n",
      "|1975|   150| 5.84866666666667|           7.8|\n",
      "|1977|   148|5.757432432432437|           7.6|\n",
      "|2003|   187|5.850802139037435|           7.6|\n",
      "|2007|   211| 5.89099526066351|           8.4|\n",
      "+----+------+-----------------+--------------+\n",
      "only showing top 5 rows\n",
      "\n"
     ]
    }
   ],
   "source": [
    "# Creating avg and max magnitude fields\n",
    "df_max = df_load.groupBy('Year').max('Magnitude').withColumnRenamed('max(Mgnitude)', 'Max_Magnitude')\n",
    "\n",
    "df_avg = df_load.groupBy('Year').avg('Magnitude').withColumnRenamed('avg(Mgnitude)', 'Avg_Magnitude')\n",
    "\n",
    "# Join the max and avg dfs to df_quake_freq\n",
    "df_quake_freq = df_quake_freq.join(df_avg, ['Year']).join(df_max, ['Year'])\n",
    "\n",
    "df_quake_freq.show(5)"
   ]
  },
  {
   "cell_type": "markdown",
   "metadata": {},
   "source": []
  },
  {
   "cell_type": "code",
   "execution_count": 11,
   "metadata": {},
   "outputs": [
    {
     "name": "stdout",
     "output_type": "stream",
     "text": [
      "+----------+--------+--------+---------+----------+-----+-----------+----------------------+---------+--------------+---------------+--------------------------+-------------+-------------------+----------------+----------------+------------+------+---------------+----------------+---------+----+\n",
      "|      Date|    Time|Latitude|Longitude|      Type|Depth|Depth Error|Depth Seismic Stations|Magnitude|Magnitude Type|Magnitude Error|Magnitude Seismic Stations|Azimuthal Gap|Horizontal Distance|Horizontal Error|Root Mean Square|          ID|Source|Location Source|Magnitude Source|   Status|Year|\n",
      "+----------+--------+--------+---------+----------+-----+-----------+----------------------+---------+--------------+---------------+--------------------------+-------------+-------------------+----------------+----------------+------------+------+---------------+----------------+---------+----+\n",
      "|01/02/1965|13:44:18|  19.246|  145.616|Earthquake|131.6|       NULL|                  NULL|      6.0|            MW|           NULL|                      NULL|         NULL|               NULL|            NULL|            NULL|ISCGEM860706|ISCGEM|         ISCGEM|          ISCGEM|Automatic|1965|\n",
      "|01/04/1965|11:29:49|   1.863|  127.352|Earthquake| 80.0|       NULL|                  NULL|      5.8|            MW|           NULL|                      NULL|         NULL|               NULL|            NULL|            NULL|ISCGEM860737|ISCGEM|         ISCGEM|          ISCGEM|Automatic|1965|\n",
      "|01/05/1965|18:05:58| -20.579| -173.972|Earthquake| 20.0|       NULL|                  NULL|      6.2|            MW|           NULL|                      NULL|         NULL|               NULL|            NULL|            NULL|ISCGEM860762|ISCGEM|         ISCGEM|          ISCGEM|Automatic|1965|\n",
      "|01/08/1965|18:49:43| -59.076|  -23.557|Earthquake| 15.0|       NULL|                  NULL|      5.8|            MW|           NULL|                      NULL|         NULL|               NULL|            NULL|            NULL|ISCGEM860856|ISCGEM|         ISCGEM|          ISCGEM|Automatic|1965|\n",
      "|01/09/1965|13:32:50|  11.938|  126.427|Earthquake| 15.0|       NULL|                  NULL|      5.8|            MW|           NULL|                      NULL|         NULL|               NULL|            NULL|            NULL|ISCGEM860890|ISCGEM|         ISCGEM|          ISCGEM|Automatic|1965|\n",
      "+----------+--------+--------+---------+----------+-----+-----------+----------------------+---------+--------------+---------------+--------------------------+-------------+-------------------+----------------+----------------+------------+------+---------------+----------------+---------+----+\n",
      "only showing top 5 rows\n",
      "\n"
     ]
    }
   ],
   "source": [
    "df_load.show(5)"
   ]
  },
  {
   "cell_type": "code",
   "execution_count": 12,
   "metadata": {},
   "outputs": [
    {
     "name": "stdout",
     "output_type": "stream",
     "text": [
      "+----+------+-----------------+--------------+\n",
      "|Year|Counts|   avg(Magnitude)|max(Magnitude)|\n",
      "+----+------+-----------------+--------------+\n",
      "|1990|   196|5.858163265306125|           7.6|\n",
      "|1975|   150| 5.84866666666667|           7.8|\n",
      "|1977|   148|5.757432432432437|           7.6|\n",
      "|2003|   187|5.850802139037435|           7.6|\n",
      "|2007|   211| 5.89099526066351|           8.4|\n",
      "+----+------+-----------------+--------------+\n",
      "only showing top 5 rows\n",
      "\n"
     ]
    }
   ],
   "source": [
    "df_quake_freq.show(5)"
   ]
  },
  {
   "cell_type": "code",
   "execution_count": 13,
   "metadata": {},
   "outputs": [
    {
     "name": "stdout",
     "output_type": "stream",
     "text": [
      "+----------+--------+--------+---------+----------+-----+-----------+----------------------+---------+--------------+---------------+--------------------------+-------------+-------------------+----------------+----------------+--------------------+---------+---------------+----------------+---------+----+\n",
      "|      Date|    Time|Latitude|Longitude|      Type|Depth|Depth Error|Depth Seismic Stations|Magnitude|Magnitude Type|Magnitude Error|Magnitude Seismic Stations|Azimuthal Gap|Horizontal Distance|Horizontal Error|Root Mean Square|                  ID|   Source|Location Source|Magnitude Source|   Status|Year|\n",
      "+----------+--------+--------+---------+----------+-----+-----------+----------------------+---------+--------------+---------------+--------------------------+-------------+-------------------+----------------+----------------+--------------------+---------+---------------+----------------+---------+----+\n",
      "|01/02/1965|13:44:18|  19.246|  145.616|Earthquake|131.6|       NULL|                  NULL|      6.0|            MW|           NULL|                      NULL|         NULL|               NULL|            NULL|            NULL|        ISCGEM860706|   ISCGEM|         ISCGEM|          ISCGEM|Automatic|1965|\n",
      "|01/04/1965|11:29:49|   1.863|  127.352|Earthquake| 80.0|       NULL|                  NULL|      5.8|            MW|           NULL|                      NULL|         NULL|               NULL|            NULL|            NULL|        ISCGEM860737|   ISCGEM|         ISCGEM|          ISCGEM|Automatic|1965|\n",
      "|01/05/1965|18:05:58| -20.579| -173.972|Earthquake| 20.0|       NULL|                  NULL|      6.2|            MW|           NULL|                      NULL|         NULL|               NULL|            NULL|            NULL|        ISCGEM860762|   ISCGEM|         ISCGEM|          ISCGEM|Automatic|1965|\n",
      "|01/08/1965|18:49:43| -59.076|  -23.557|Earthquake| 15.0|       NULL|                  NULL|      5.8|            MW|           NULL|                      NULL|         NULL|               NULL|            NULL|            NULL|        ISCGEM860856|   ISCGEM|         ISCGEM|          ISCGEM|Automatic|1965|\n",
      "|01/09/1965|13:32:50|  11.938|  126.427|Earthquake| 15.0|       NULL|                  NULL|      5.8|            MW|           NULL|                      NULL|         NULL|               NULL|            NULL|            NULL|        ISCGEM860890|   ISCGEM|         ISCGEM|          ISCGEM|Automatic|1965|\n",
      "|01/10/1965|13:36:32| -13.405|  166.629|Earthquake| 35.0|       NULL|                  NULL|      6.7|            MW|           NULL|                      NULL|         NULL|               NULL|            NULL|            NULL|        ISCGEM860922|   ISCGEM|         ISCGEM|          ISCGEM|Automatic|1965|\n",
      "|01/12/1965|13:32:25|  27.357|   87.867|Earthquake| 20.0|       NULL|                  NULL|      5.9|            MW|           NULL|                      NULL|         NULL|               NULL|            NULL|            NULL|        ISCGEM861007|   ISCGEM|         ISCGEM|          ISCGEM|Automatic|1965|\n",
      "|01/15/1965|23:17:42| -13.309|  166.212|Earthquake| 35.0|       NULL|                  NULL|      6.0|            MW|           NULL|                      NULL|         NULL|               NULL|            NULL|            NULL|        ISCGEM861111|   ISCGEM|         ISCGEM|          ISCGEM|Automatic|NULL|\n",
      "|01/16/1965|11:32:37| -56.452|  -27.043|Earthquake| 95.0|       NULL|                  NULL|      6.0|            MW|           NULL|                      NULL|         NULL|               NULL|            NULL|            NULL|     ISCGEMSUP861125|ISCGEMSUP|         ISCGEM|          ISCGEM|Automatic|NULL|\n",
      "|01/17/1965|10:43:17| -24.563|  178.487|Earthquake|565.0|       NULL|                  NULL|      5.8|            MW|           NULL|                      NULL|         NULL|               NULL|            NULL|            NULL|        ISCGEM861148|   ISCGEM|         ISCGEM|          ISCGEM|Automatic|NULL|\n",
      "|01/17/1965|20:57:41|  -6.807|  108.988|Earthquake|227.9|       NULL|                  NULL|      5.9|            MW|           NULL|                      NULL|         NULL|               NULL|            NULL|            NULL|        ISCGEM861155|   ISCGEM|         ISCGEM|          ISCGEM|Automatic|NULL|\n",
      "|01/24/1965|00:11:17|  -2.608|  125.952|Earthquake| 20.0|       NULL|                  NULL|      8.2|            MW|           NULL|                      NULL|         NULL|               NULL|            NULL|            NULL|        ISCGEM861299|   ISCGEM|         ISCGEM|          ISCGEM|Automatic|NULL|\n",
      "|01/29/1965|09:35:30|  54.636|  161.703|Earthquake| 55.0|       NULL|                  NULL|      5.5|            MW|           NULL|                      NULL|         NULL|               NULL|            NULL|            NULL|        ISCGEM861461|   ISCGEM|         ISCGEM|          ISCGEM|Automatic|NULL|\n",
      "|02/01/1965|05:27:06| -18.697| -177.864|Earthquake|482.9|       NULL|                  NULL|      5.6|            MW|           NULL|                      NULL|         NULL|               NULL|            NULL|            NULL|        ISCGEM859136|   ISCGEM|         ISCGEM|          ISCGEM|Automatic|1965|\n",
      "|02/02/1965|15:56:51|  37.523|   73.251|Earthquake| 15.0|       NULL|                  NULL|      6.0|            MW|           NULL|                      NULL|         NULL|               NULL|            NULL|            NULL|        ISCGEM859164|   ISCGEM|         ISCGEM|          ISCGEM|Automatic|1965|\n",
      "|02/04/1965|03:25:00|  -51.84|  139.741|Earthquake| 10.0|       NULL|                  NULL|      6.1|            MW|           NULL|                      NULL|         NULL|               NULL|            NULL|            NULL|        ISCGEM859200|   ISCGEM|         ISCGEM|          ISCGEM|Automatic|1965|\n",
      "|02/04/1965|05:01:22|  51.251|  178.715|Earthquake| 30.3|       NULL|                  NULL|      8.7|            MW|           NULL|                      NULL|         NULL|               NULL|            NULL|            NULL|OFFICIAL196502040...| OFFICIAL|         ISCGEM|        OFFICIAL|Automatic|1965|\n",
      "|02/04/1965|06:04:59|  51.639|  175.055|Earthquake| 30.0|       NULL|                  NULL|      6.0|            MW|           NULL|                      NULL|         NULL|               NULL|            NULL|            NULL|     ISCGEMSUP859215|ISCGEMSUP|         ISCGEM|          ISCGEM|Automatic|1965|\n",
      "|02/04/1965|06:37:06|  52.528|  172.007|Earthquake| 25.0|       NULL|                  NULL|      5.7|            MW|           NULL|                      NULL|         NULL|               NULL|            NULL|            NULL|        ISCGEM859221|   ISCGEM|         ISCGEM|          ISCGEM|Automatic|1965|\n",
      "|02/04/1965|06:39:32|  51.626|  175.746|Earthquake| 25.0|       NULL|                  NULL|      5.8|            MW|           NULL|                      NULL|         NULL|               NULL|            NULL|            NULL|        ISCGEM859222|   ISCGEM|         ISCGEM|          ISCGEM|Automatic|1965|\n",
      "+----------+--------+--------+---------+----------+-----+-----------+----------------------+---------+--------------+---------------+--------------------------+-------------+-------------------+----------------+----------------+--------------------+---------+---------------+----------------+---------+----+\n",
      "only showing top 20 rows\n",
      "\n",
      "None\n"
     ]
    }
   ],
   "source": [
    "print(df_load.show())\n"
   ]
  },
  {
   "cell_type": "code",
   "execution_count": 14,
   "metadata": {},
   "outputs": [
    {
     "data": {
      "text/plain": [
       "DataFrame[Year: int, Counts: bigint, avg(Magnitude): double, max(Magnitude): double]"
      ]
     },
     "execution_count": 14,
     "metadata": {},
     "output_type": "execute_result"
    }
   ],
   "source": [
    "df_load.dropna()\n",
    "df_quake_freq.dropna()"
   ]
  },
  {
   "cell_type": "markdown",
   "metadata": {},
   "source": []
  },
  {
   "cell_type": "markdown",
   "metadata": {},
   "source": []
  },
  {
   "cell_type": "code",
   "execution_count": null,
   "metadata": {},
   "outputs": [],
   "source": []
  },
  {
   "cell_type": "code",
   "execution_count": null,
   "metadata": {},
   "outputs": [],
   "source": []
  },
  {
   "cell_type": "code",
   "execution_count": null,
   "metadata": {},
   "outputs": [],
   "source": []
  },
  {
   "cell_type": "code",
   "execution_count": null,
   "metadata": {},
   "outputs": [],
   "source": []
  },
  {
   "cell_type": "code",
   "execution_count": null,
   "metadata": {},
   "outputs": [],
   "source": []
  }
 ],
 "metadata": {
  "kernelspec": {
   "display_name": "Python 3",
   "language": "python",
   "name": "python3"
  },
  "language_info": {
   "codemirror_mode": {
    "name": "ipython",
    "version": 3
   },
   "file_extension": ".py",
   "mimetype": "text/x-python",
   "name": "python",
   "nbconvert_exporter": "python",
   "pygments_lexer": "ipython3",
   "version": "3.12.5"
  }
 },
 "nbformat": 4,
 "nbformat_minor": 2
}
